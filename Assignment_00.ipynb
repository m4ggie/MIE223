{
  "nbformat": 4,
  "nbformat_minor": 0,
  "metadata": {
    "colab": {
      "provenance": []
    },
    "kernelspec": {
      "name": "python3",
      "display_name": "Python 3"
    },
    "language_info": {
      "name": "python"
    }
  },
  "cells": [
    {
      "cell_type": "markdown",
      "source": [
        "## Q1"
      ],
      "metadata": {
        "id": "ZaCsj3nqjzzD"
      }
    },
    {
      "cell_type": "code",
      "source": [
        "def myFunc(lst):\n",
        "## your code starts here ##\n",
        "\n",
        "## end ##"
      ],
      "metadata": {
        "id": "538ny7NqeZun"
      },
      "execution_count": null,
      "outputs": []
    },
    {
      "cell_type": "code",
      "source": [
        "# example usage\n",
        "myFunc(list(range(10)))"
      ],
      "metadata": {
        "id": "WmqJZO0EEreL"
      },
      "execution_count": null,
      "outputs": []
    },
    {
      "cell_type": "markdown",
      "source": [
        "## Q2(a)"
      ],
      "metadata": {
        "id": "9qySeFuZj3yF"
      }
    },
    {
      "cell_type": "code",
      "source": [
        "import re"
      ],
      "metadata": {
        "id": "PX5Gg0r2f1Ge"
      },
      "execution_count": null,
      "outputs": []
    },
    {
      "cell_type": "code",
      "source": [
        "sample_text = \"\"\"\n",
        "Beautiful is better than ugly.\n",
        "Explicit is better than implicit.\n",
        "Simple is better than complex.\n",
        "Complex is better than complicated.\n",
        "Flat is better than nested.\n",
        "Sparse is better than dense.\n",
        "Readability counts.\n",
        "Special cases are not special enough to break the rules.\n",
        "Although practicality beats purity.\n",
        "Errors should never pass silently.\n",
        "Unless explicitly silenced.\n",
        "In the face of ambiguity, refuse the temptation to guess.\n",
        "There should be one-- and preferably only one --obvious way to do it.\n",
        "Although that way may not be obvious at first unless you are Dutch.\n",
        "Now is better than never.\n",
        "Although never is often better than *right* now.\n",
        "If the implementation is hard to explain, it is a bad idea.\n",
        "If the implementation is easy to explain, it may be a good idea.\n",
        "Namespaces are one honking great idea -- let us do more of those!\n",
        "\n",
        "\"\"\" # The Zen of Python by Tim Peters"
      ],
      "metadata": {
        "id": "IJT2C2Qg2NAC"
      },
      "execution_count": null,
      "outputs": []
    },
    {
      "cell_type": "code",
      "source": [
        "def wordCount(text):\n",
        "\n",
        "    list_of_words = re.split(\"\\.+\", re.sub('[^a-zA-Z0-9]', '.', text).strip('.'))\n",
        "\n",
        "    ## your code starts here ##\n",
        "\n",
        "    ## end ##"
      ],
      "metadata": {
        "id": "PGJ_XLfkcrA_"
      },
      "execution_count": null,
      "outputs": []
    },
    {
      "cell_type": "code",
      "execution_count": null,
      "metadata": {
        "id": "qwPJTFaRY1lo"
      },
      "outputs": [],
      "source": [
        "# example usage\n",
        "wordCount(sample_text)"
      ]
    },
    {
      "cell_type": "markdown",
      "source": [
        "## Q2(b)"
      ],
      "metadata": {
        "id": "FI7h-ga8FIFx"
      }
    },
    {
      "cell_type": "code",
      "source": [
        "def myFuncDictFilter(input_dict, n):\n",
        "    ## your code starts here ##\n",
        "\n",
        "    ## end ##"
      ],
      "metadata": {
        "id": "TZ81sNlKZSO4"
      },
      "execution_count": null,
      "outputs": []
    },
    {
      "cell_type": "code",
      "source": [
        "# example usage\n",
        "myFuncDictFilter(wordCount(sample_text), 2)"
      ],
      "metadata": {
        "id": "ZpCLqLnrbXh5"
      },
      "execution_count": null,
      "outputs": []
    }
  ]
}