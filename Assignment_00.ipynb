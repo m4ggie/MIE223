{
  "nbformat": 4,
  "nbformat_minor": 0,
  "metadata": {
    "colab": {
      "provenance": []
    },
    "kernelspec": {
      "name": "python3",
      "display_name": "Python 3"
    },
    "language_info": {
      "name": "python"
    }
  },
  "cells": [
    {
      "cell_type": "markdown",
      "source": [
        "## Q1"
      ],
      "metadata": {
        "id": "ZaCsj3nqjzzD"
      }
    },
    {
      "cell_type": "code",
      "source": [
        "def myFunc(lst):\n",
        "## your code starts here ##\n",
        "\n",
        "  for i in lst:\n",
        "    if i%2 ==0: #even case\n",
        "      lst[i] = i**2\n",
        "    else:\n",
        "      lst[i] = i*2\n",
        "  return lst\n",
        "\n",
        "## end ##"
      ],
      "metadata": {
        "id": "538ny7NqeZun"
      },
      "execution_count": null,
      "outputs": []
    },
    {
      "cell_type": "code",
      "source": [
        "# example usage\n",
        "myFunc(list(range(10)))"
      ],
      "metadata": {
        "id": "WmqJZO0EEreL",
        "colab": {
          "base_uri": "https://localhost:8080/"
        },
        "outputId": "8b1fb57f-ae77-4f18-8ee0-e4ff8cd4e0fe"
      },
      "execution_count": null,
      "outputs": [
        {
          "output_type": "execute_result",
          "data": {
            "text/plain": [
              "[0, 2, 4, 6, 16, 10, 36, 14, 64, 18]"
            ]
          },
          "metadata": {},
          "execution_count": 2
        }
      ]
    },
    {
      "cell_type": "markdown",
      "source": [
        "## Q2(a)"
      ],
      "metadata": {
        "id": "9qySeFuZj3yF"
      }
    },
    {
      "cell_type": "code",
      "source": [
        "import re"
      ],
      "metadata": {
        "id": "PX5Gg0r2f1Ge"
      },
      "execution_count": null,
      "outputs": []
    },
    {
      "cell_type": "code",
      "source": [
        "sample_text = \"\"\"\n",
        "Beautiful is better than ugly.\n",
        "Explicit is better than implicit.\n",
        "Simple is better than complex.\n",
        "Complex is better than complicated.\n",
        "Flat is better than nested.\n",
        "Sparse is better than dense.\n",
        "Readability counts.\n",
        "Special cases are not special enough to break the rules.\n",
        "Although practicality beats purity.\n",
        "Errors should never pass silently.\n",
        "Unless explicitly silenced.\n",
        "In the face of ambiguity, refuse the temptation to guess.\n",
        "There should be one-- and preferably only one --obvious way to do it.\n",
        "Although that way may not be obvious at first unless you are Dutch.\n",
        "Now is better than never.\n",
        "Although never is often better than *right* now.\n",
        "If the implementation is hard to explain, it is a bad idea.\n",
        "If the implementation is easy to explain, it may be a good idea.\n",
        "Namespaces are one honking great idea -- let us do more of those!\n",
        "\n",
        "\"\"\" # The Zen of Python by Tim Peters"
      ],
      "metadata": {
        "id": "IJT2C2Qg2NAC"
      },
      "execution_count": null,
      "outputs": []
    },
    {
      "cell_type": "code",
      "source": [
        "def wordCount(text):\n",
        "\n",
        "    list_of_words = re.split(\"\\.+\", re.sub('[^a-zA-Z0-9]', '.', text).strip('.'))\n",
        "\n",
        "    ## your code starts here ##\n",
        "    empty_dict = dict.fromkeys (list_of_words)\n",
        "    for word in list_of_words:\n",
        "      empty_dict[word] = list_of_words.count(word)\n",
        "    return empty_dict\n",
        "    ## end ##"
      ],
      "metadata": {
        "id": "PGJ_XLfkcrA_"
      },
      "execution_count": null,
      "outputs": []
    },
    {
      "cell_type": "code",
      "execution_count": null,
      "metadata": {
        "id": "qwPJTFaRY1lo",
        "colab": {
          "base_uri": "https://localhost:8080/"
        },
        "outputId": "4a0991f8-9f32-4a05-d416-d825847c0518"
      },
      "outputs": [
        {
          "output_type": "execute_result",
          "data": {
            "text/plain": [
              "{'Beautiful': 1,\n",
              " 'is': 11,\n",
              " 'better': 8,\n",
              " 'than': 8,\n",
              " 'ugly': 1,\n",
              " 'Explicit': 1,\n",
              " 'implicit': 1,\n",
              " 'Simple': 1,\n",
              " 'complex': 1,\n",
              " 'Complex': 1,\n",
              " 'complicated': 1,\n",
              " 'Flat': 1,\n",
              " 'nested': 1,\n",
              " 'Sparse': 1,\n",
              " 'dense': 1,\n",
              " 'Readability': 1,\n",
              " 'counts': 1,\n",
              " 'Special': 1,\n",
              " 'cases': 1,\n",
              " 'are': 3,\n",
              " 'not': 2,\n",
              " 'special': 1,\n",
              " 'enough': 1,\n",
              " 'to': 5,\n",
              " 'break': 1,\n",
              " 'the': 5,\n",
              " 'rules': 1,\n",
              " 'Although': 3,\n",
              " 'practicality': 1,\n",
              " 'beats': 1,\n",
              " 'purity': 1,\n",
              " 'Errors': 1,\n",
              " 'should': 2,\n",
              " 'never': 3,\n",
              " 'pass': 1,\n",
              " 'silently': 1,\n",
              " 'Unless': 1,\n",
              " 'explicitly': 1,\n",
              " 'silenced': 1,\n",
              " 'In': 1,\n",
              " 'face': 1,\n",
              " 'of': 2,\n",
              " 'ambiguity': 1,\n",
              " 'refuse': 1,\n",
              " 'temptation': 1,\n",
              " 'guess': 1,\n",
              " 'There': 1,\n",
              " 'be': 3,\n",
              " 'one': 3,\n",
              " 'and': 1,\n",
              " 'preferably': 1,\n",
              " 'only': 1,\n",
              " 'obvious': 2,\n",
              " 'way': 2,\n",
              " 'do': 2,\n",
              " 'it': 3,\n",
              " 'that': 1,\n",
              " 'may': 2,\n",
              " 'at': 1,\n",
              " 'first': 1,\n",
              " 'unless': 1,\n",
              " 'you': 1,\n",
              " 'Dutch': 1,\n",
              " 'Now': 1,\n",
              " 'often': 1,\n",
              " 'right': 1,\n",
              " 'now': 1,\n",
              " 'If': 2,\n",
              " 'implementation': 2,\n",
              " 'hard': 1,\n",
              " 'explain': 2,\n",
              " 'a': 2,\n",
              " 'bad': 1,\n",
              " 'idea': 3,\n",
              " 'easy': 1,\n",
              " 'good': 1,\n",
              " 'Namespaces': 1,\n",
              " 'honking': 1,\n",
              " 'great': 1,\n",
              " 'let': 1,\n",
              " 'us': 1,\n",
              " 'more': 1,\n",
              " 'those': 1}"
            ]
          },
          "metadata": {},
          "execution_count": 11
        }
      ],
      "source": [
        "# example usage\n",
        "wordCount(sample_text)"
      ]
    },
    {
      "cell_type": "markdown",
      "source": [
        "## Q2(b)"
      ],
      "metadata": {
        "id": "FI7h-ga8FIFx"
      }
    },
    {
      "cell_type": "code",
      "source": [
        "def myFuncDictFilter(input_dict, n):\n",
        "    ## your code starts here ##\n",
        "    #takes a dictionary and integer n, returns dict of key-value pairs from input where values are greater than n\n",
        "    return {k:v for k,v in input_dict.items() if v>n}\n",
        "    #{} create a new dictionary\n",
        "    #k:v --> key value pairs from what we are iterating\n",
        "    #for k,v in input_dict.items(), iterates through all key value pairs\n",
        "    #only duplicates to new dictionary if v>n\n",
        "    ## end ##"
      ],
      "metadata": {
        "id": "TZ81sNlKZSO4"
      },
      "execution_count": null,
      "outputs": []
    },
    {
      "cell_type": "code",
      "source": [
        "# example usage\n",
        "myFuncDictFilter(wordCount(sample_text), 2)"
      ],
      "metadata": {
        "id": "ZpCLqLnrbXh5",
        "colab": {
          "base_uri": "https://localhost:8080/"
        },
        "outputId": "1d438b06-5ea1-4997-9e9d-491e5502ec1a"
      },
      "execution_count": null,
      "outputs": [
        {
          "output_type": "execute_result",
          "data": {
            "text/plain": [
              "{'is': 11,\n",
              " 'better': 8,\n",
              " 'than': 8,\n",
              " 'are': 3,\n",
              " 'to': 5,\n",
              " 'the': 5,\n",
              " 'Although': 3,\n",
              " 'never': 3,\n",
              " 'be': 3,\n",
              " 'one': 3,\n",
              " 'it': 3,\n",
              " 'idea': 3}"
            ]
          },
          "metadata": {},
          "execution_count": 13
        }
      ]
    }
  ]
}